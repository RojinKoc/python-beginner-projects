{
  "nbformat": 4,
  "nbformat_minor": 0,
  "metadata": {
    "colab": {
      "provenance": [],
      "authorship_tag": "ABX9TyMFENucT8/OUJ8aurjafyn+",
      "include_colab_link": true
    },
    "kernelspec": {
      "name": "python3",
      "display_name": "Python 3"
    },
    "language_info": {
      "name": "python"
    }
  },
  "cells": [
    {
      "cell_type": "markdown",
      "metadata": {
        "id": "view-in-github",
        "colab_type": "text"
      },
      "source": [
        "<a href=\"https://colab.research.google.com/github/RojinKoc/python-beginner-projects/blob/main/basicpractice.ipynb\" target=\"_parent\"><img src=\"https://colab.research.google.com/assets/colab-badge.svg\" alt=\"Open In Colab\"/></a>"
      ]
    },
    {
      "cell_type": "code",
      "execution_count": null,
      "metadata": {
        "colab": {
          "base_uri": "https://localhost:8080/"
        },
        "id": "rM1AYx8bEdlv",
        "outputId": "1b3301a7-8a3a-4dc2-e145-54b6438c328e"
      },
      "outputs": [
        {
          "output_type": "stream",
          "name": "stdout",
          "text": [
            "1\n",
            "2\n",
            "3\n",
            "4\n",
            "5\n",
            "6\n",
            "7\n",
            "8\n",
            "9\n",
            "10\n"
          ]
        }
      ],
      "source": [
        "#1Print Numbers 1 to 10\n",
        "for x in range(1,11):\n",
        "  print(x)"
      ]
    },
    {
      "cell_type": "code",
      "source": [
        "#Print Even Numbers\n",
        "for x in range(0,21,2):\n",
        "  print(x)"
      ],
      "metadata": {
        "colab": {
          "base_uri": "https://localhost:8080/"
        },
        "id": "1idlPznWF0hU",
        "outputId": "7e5cbcea-0e47-4028-ab3b-cf398edc207c"
      },
      "execution_count": null,
      "outputs": [
        {
          "output_type": "stream",
          "name": "stdout",
          "text": [
            "0\n",
            "2\n",
            "4\n",
            "6\n",
            "8\n",
            "10\n",
            "12\n",
            "14\n",
            "16\n",
            "18\n",
            "20\n"
          ]
        }
      ]
    },
    {
      "cell_type": "code",
      "source": [
        "#Print Odd Numbers Up to User Entered Number\n",
        "x=int(input(\"Enter a number: \"))\n",
        "for x in range(1,x,2):\n",
        "  print(x)\n"
      ],
      "metadata": {
        "colab": {
          "base_uri": "https://localhost:8080/"
        },
        "id": "bW7OQxsvGW6S",
        "outputId": "4eb1d6d7-0ca9-40aa-ed38-4ffb532636b8"
      },
      "execution_count": null,
      "outputs": [
        {
          "output_type": "stream",
          "name": "stdout",
          "text": [
            "Enter a number: 15\n",
            "1\n",
            "3\n",
            "5\n",
            "7\n",
            "9\n",
            "11\n",
            "13\n"
          ]
        }
      ]
    },
    {
      "cell_type": "code",
      "source": [
        "#Factorial Calculation\n",
        "x=int(input(\"Enter a number: \"))\n",
        "fac=1\n",
        "for i in range(1,x+1):\n",
        "  fac=fac*i\n",
        "print(\"The factorial of \", x, \" is \", fac)"
      ],
      "metadata": {
        "colab": {
          "base_uri": "https://localhost:8080/"
        },
        "id": "65eUEOboJh0b",
        "outputId": "2d1b9ada-888e-495b-919f-19ce3b81a106"
      },
      "execution_count": null,
      "outputs": [
        {
          "output_type": "stream",
          "name": "stdout",
          "text": [
            "Enter a number: 5\n",
            "The factorial of  5  is  120\n"
          ]
        }
      ]
    },
    {
      "cell_type": "code",
      "source": [
        "#Calculate Average of Numbers Entered by User\n",
        "x=int(input(\"How many numbers will you enter? \"))\n",
        "total=0\n",
        "for i in range(x):\n",
        "  sayi=int(input(\"Enter a number: \"))\n",
        "  total=total+sayi\n",
        "print(\"Average is \", total/x )"
      ],
      "metadata": {
        "colab": {
          "base_uri": "https://localhost:8080/"
        },
        "id": "wnTwm8-ILIEn",
        "outputId": "08dc91bf-63d4-4a13-db79-f41a7d5db3d3"
      },
      "execution_count": null,
      "outputs": [
        {
          "output_type": "stream",
          "name": "stdout",
          "text": [
            "How many numbers will you enter? 2\n",
            "Enter a number: 2\n",
            "Enter a number: 2\n",
            "Average is  2.0\n"
          ]
        }
      ]
    },
    {
      "cell_type": "code",
      "source": [
        "#Writing the Word Reversed\n",
        "word=input(\"enter a word:\")\n",
        "for x in range(len(word)-1,-1,-1):\n",
        "  print(word[x])"
      ],
      "metadata": {
        "colab": {
          "base_uri": "https://localhost:8080/"
        },
        "id": "ApOzZ3gFNk2q",
        "outputId": "dcf53a63-a09c-4d4f-a7ce-b49de5484c92"
      },
      "execution_count": null,
      "outputs": [
        {
          "output_type": "stream",
          "name": "stdout",
          "text": [
            "enter a word:abab\n",
            "b\n",
            "a\n",
            "b\n",
            "a\n"
          ]
        }
      ]
    },
    {
      "cell_type": "code",
      "source": [
        "#Writing the Word Reversed\n",
        "word=input(\"enter a word:\")\n",
        "reversed_word=word[::-1]\n",
        "print(reversed_word)"
      ],
      "metadata": {
        "colab": {
          "base_uri": "https://localhost:8080/"
        },
        "id": "OylvuuIiPFnx",
        "outputId": "2892984e-459d-48ed-f053-e4234285871c"
      },
      "execution_count": null,
      "outputs": [
        {
          "output_type": "stream",
          "name": "stdout",
          "text": [
            "enter a word:abab\n",
            "baba\n"
          ]
        }
      ]
    },
    {
      "cell_type": "code",
      "source": [
        "#Find Whether the Entered Number is Prime or Not\n",
        "x = int(input(\"Enter a number: \"))\n",
        "\n",
        "if x <= 1:\n",
        "    print(x, \"is not a prime number\")\n",
        "else:\n",
        "    is_prime = True\n",
        "    for i in range(2, x):\n",
        "        if x % i == 0:\n",
        "            is_prime = False\n",
        "            break\n",
        "\n",
        "    if is_prime:\n",
        "        print(x, \"is a prime number\")\n",
        "    else:\n",
        "        print(x, \"is not a prime number\")\n"
      ],
      "metadata": {
        "colab": {
          "base_uri": "https://localhost:8080/"
        },
        "id": "2_E260Ryp3Q4",
        "outputId": "ecf7d464-4465-4374-bae8-27bcdc4b25ff"
      },
      "execution_count": null,
      "outputs": [
        {
          "output_type": "stream",
          "name": "stdout",
          "text": [
            "Enter a number: 15\n",
            "15 is not a prime number\n"
          ]
        }
      ]
    },
    {
      "cell_type": "code",
      "source": [
        "name = \"Ahmet\"\n",
        "age = 25\n",
        "print(f\"{name} {age} yaşında.\")"
      ],
      "metadata": {
        "colab": {
          "base_uri": "https://localhost:8080/"
        },
        "id": "ls0jl_273QxR",
        "outputId": "045c5b93-ef15-4d9a-d2e1-3fdb5edb01cd"
      },
      "execution_count": null,
      "outputs": [
        {
          "output_type": "stream",
          "name": "stdout",
          "text": [
            "Ahmet 25 yaşında.\n"
          ]
        }
      ]
    }
  ]
}