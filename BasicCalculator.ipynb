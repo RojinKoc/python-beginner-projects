{
  "nbformat": 4,
  "nbformat_minor": 0,
  "metadata": {
    "colab": {
      "provenance": [],
      "authorship_tag": "ABX9TyPLUyqGHWV+B0sEiB61S1Yi",
      "include_colab_link": true
    },
    "kernelspec": {
      "name": "python3",
      "display_name": "Python 3"
    },
    "language_info": {
      "name": "python"
    }
  },
  "cells": [
    {
      "cell_type": "markdown",
      "metadata": {
        "id": "view-in-github",
        "colab_type": "text"
      },
      "source": [
        "<a href=\"https://colab.research.google.com/github/RojinKoc/python-beginner-projects/blob/main/BasicCalculator.ipynb\" target=\"_parent\"><img src=\"https://colab.research.google.com/assets/colab-badge.svg\" alt=\"Open In Colab\"/></a>"
      ]
    },
    {
      "cell_type": "code",
      "execution_count": 7,
      "metadata": {
        "colab": {
          "base_uri": "https://localhost:8080/"
        },
        "id": "JgFgygZB35xD",
        "outputId": "c1ef6fd5-12cd-4f1b-dd3d-b70915655ab6"
      },
      "outputs": [
        {
          "output_type": "stream",
          "name": "stdout",
          "text": [
            "Enter first number: 50\n",
            "Enter second number: 5\n",
            "Select the action you want to perform \n",
            " 1 - Sum \n",
            " 2 - Subtract \n",
            " 3 - Multiplicate \n",
            " 4 - Divide \n",
            " Q - Quit \n",
            " Your choice: 3\n",
            "Result: 250.0\n",
            "--------------------\n",
            "Enter first number: 86\n",
            "Enter second number: 4\n",
            "Select the action you want to perform \n",
            " 1 - Sum \n",
            " 2 - Subtract \n",
            " 3 - Multiplicate \n",
            " 4 - Divide \n",
            " Q - Quit \n",
            " Your choice: 6\n",
            "Invalid action selected. Please try again.\n",
            "--------------------\n",
            "Enter first number: 56\n",
            "Enter second number: 34\n",
            "Select the action you want to perform \n",
            " 1 - Sum \n",
            " 2 - Subtract \n",
            " 3 - Multiplicate \n",
            " 4 - Divide \n",
            " Q - Quit \n",
            " Your choice: 2\n",
            "Result: 22.0\n",
            "--------------------\n",
            "Enter first number: 4\n",
            "Enter second number: 4\n",
            "Select the action you want to perform \n",
            " 1 - Sum \n",
            " 2 - Subtract \n",
            " 3 - Multiplicate \n",
            " 4 - Divide \n",
            " Q - Quit \n",
            " Your choice: q\n",
            "Exiting program.\n",
            "--------------------\n"
          ]
        }
      ],
      "source": [
        "# Define a dictionary mapping action choices to lambda functions\n",
        "actions = {\n",
        "    '1': lambda a, b: float(a) + float(b),\n",
        "    '2': lambda a, b: float(a) - float(b),\n",
        "    '3': lambda a, b: float(a) * float(b),\n",
        "    '4': lambda a, b: float(a) / float(b) if float(b) != 0 else \"Error: Division by zero!\"\n",
        "}\n",
        "\n",
        "# Initialize action to an empty string or any value that is not 'Q'\n",
        "action = ''\n",
        "\n",
        "# Use a while loop to continue as long as the action is not 'Q' (case-insensitive)\n",
        "while action.upper() != 'Q':\n",
        "    # Get input for numbers and action inside the loop\n",
        "    x = input(\"Enter first number: \")\n",
        "    y = input(\"Enter second number: \")\n",
        "    action = input(\"Select the action you want to perform \\n 1 - Sum \\n 2 - Subtract \\n 3 - Multiplicate \\n 4 - Divide \\n Q - Quit \\n Your choice: \")\n",
        "\n",
        "    # Check if the action is in our dictionary of valid actions\n",
        "    if action in actions:\n",
        "        # Get the corresponding lambda function from the dictionary\n",
        "        operation = actions[action]\n",
        "        # Call the lambda function with the input numbers\n",
        "        result = operation(x, y)\n",
        "        print(\"Result:\", result)\n",
        "    elif action.upper() == 'Q':\n",
        "        # If the action is 'Q', the loop will terminate\n",
        "        print(\"Exiting program.\")\n",
        "    else:\n",
        "        # Handle invalid input for action\n",
        "        print(\"Invalid action selected. Please try again.\")\n",
        "    print(\"-\" * 20) # Print a separator for clarity"
      ]
    }
  ]
}